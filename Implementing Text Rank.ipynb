{
 "cells": [
  {
   "cell_type": "markdown",
   "metadata": {},
   "source": [
    "### Importing Libraries"
   ]
  },
  {
   "cell_type": "code",
   "execution_count": 1,
   "metadata": {},
   "outputs": [],
   "source": [
    "import numpy as np\n",
    "import pandas as pd\n",
    "import nltk\n",
    "import re"
   ]
  },
  {
   "cell_type": "markdown",
   "metadata": {},
   "source": [
    "## Reading article from Wikipedia"
   ]
  },
  {
   "cell_type": "code",
   "execution_count": 2,
   "metadata": {},
   "outputs": [
    {
     "name": "stdout",
     "output_type": "stream",
     "text": [
      "Enter the wikipedia topic to be summarised Natural language processing\n"
     ]
    },
    {
     "data": {
      "text/plain": [
       "'Natural language processing (NLP) is a subfield of linguistics, computer science, information engineering, and artificial intelligence concerned with the interactions between computers and human (natural) languages, in particular how to program computers to process and analyze large amounts of natural language data.\\nChallenges in natural language processing frequently involve speech recognition, natural language understanding, and natural-language generation.\\nThe history of natural language processing (NLP) generally started in the 1950s, although work can be found from earlier periods.\\nIn 1950, Alan Turing published an article titled \"Computing Machinery and Intelligence\" which proposed what is now called the Turing test as a criterion of intelligence[clarification needed].\\nThe Georgetown experiment in 1954 involved fully automatic translation of more than sixty Russian sentences into English. The authors claimed that within three or five years, machine translation would be a solved problem.[2]  However, real progress was much slower, and after the ALPAC report in 1966, which found that ten-year-long research had failed to fulfill the expectations, funding for machine translation was dramatically reduced.  Little further research in machine translation was conducted until the late 1980s when the first statistical machine translation systems were developed.\\nSome notably successful natural language processing systems developed in the 1960s were SHRDLU, a natural language system working in restricted \"blocks worlds\" with restricted vocabularies, and ELIZA, a simulation of a Rogerian psychotherapist, written by Joseph Weizenbaum between 1964 and 1966.  Using almost no information about human thought or emotion, ELIZA sometimes provided a startlingly human-like interaction. When the \"patient\" exceeded the very small knowledge base, ELIZA might provide a generic response, for example, responding to \"My head hurts\" with \"Why do you say your head hurts?\".\\nDuring the 1970s, many programmers began to write \"conceptual ontologies\", which structured real-world information into computer-understandable data.  Examples are MARGIE (Schank, 1975), SAM (Cullingford, 1978), PAM (Wilensky, 1978), TaleSpin (Meehan, 1976), QUALM (Lehnert, 1977), Politics (Carbonell, 1979), and Plot Units (Lehnert 1981).  During this time, many chatterbots were written including PARRY, Racter, and Jabberwacky.\\nUp to the 1980s, most natural language processing systems were based on complex sets of hand-written rules.  Starting in the late 1980s, however, there was a revolution in natural language processing with the introduction of machine learning algorithms for language processing.  This was due to both the steady increase in computational power (see Moore\\'s law) and the gradual lessening of the dominance of Chomskyan theories of linguistics (e.g. transformational grammar), whose theoretical underpinnings discouraged the sort of corpus linguistics that underlies the machine-learning approach to language processing.[3] Some of the earliest-used machine learning algorithms, such as decision trees, produced systems of hard if-then rules similar to existing hand-written rules.  However, part-of-speech tagging introduced the use of hidden Markov models to natural language processing, and increasingly, research has focused on statistical models, which make soft, probabilistic decisions based on attaching real-valued weights to the features making up the input data. The cache language models upon which many speech recognition systems now rely are examples of such statistical models.  Such models are generally more robust when given unfamiliar input, especially input that contains errors (as is very common for real-world data), and produce more reliable results when integrated into a larger system comprising multiple subtasks.\\nMany of the notable early successes occurred in the field of machine translation, due especially to work at IBM Research, where successively more complicated statistical models were developed.  These systems were able to take advantage of existing multilingual textual corpora that had been produced by the Parliament of Canada and the European Union as a result of laws calling for the translation of all governmental proceedings into all official languages of the corresponding systems of government.  However, most other systems depended on corpora specifically developed for the tasks implemented by these systems, which was (and often continues to be) a major limitation in the success of these systems. As a result, a great deal of research has gone into methods of more effectively learning from limited amounts of data.\\nRecent research has increasingly focused on unsupervised and semi-supervised learning algorithms.  Such algorithms can learn from data that has not been hand-annotated with the desired answers or using a combination of annotated and non-annotated data.  Generally, this task is much more difficult than supervised learning, and typically produces less accurate results for a given amount of input data.  However, there is an enormous amount of non-annotated data available (including, among other things, the entire content of the World Wide Web), which can often make up for the inferior results if the algorithm used has a low enough time complexity to be practical.\\nIn the 2010s, representation learning and deep neural network-style machine learning methods became widespread in natural language processing, due in part to a flurry of results showing that such techniques[4][5] can achieve state-of-the-art results in many natural language tasks, for example in language modeling,[6] parsing,[7][8] and many others. Popular techniques include the use of word embeddings to capture semantic properties of words, and an increase in end-to-end learning of a higher-level task (e.g., question answering) instead of relying on a pipeline of separate intermediate tasks (e.g., part-of-speech tagging and dependency parsing). In some areas, this shift has entailed substantial changes in how NLP systems are designed, such that deep neural network-based approaches may be viewed as a new paradigm distinct from statistical natural language processing. For instance, the term neural machine translation (NMT) emphasizes the fact that deep learning-based approaches to machine translation directly learn sequence-to-sequence transformations, obviating the need for intermediate steps such as word alignment and language modeling that was used in statistical machine translation (SMT).\\nIn the early days, many language-processing systems were designed by hand-coding a set of rules:[9][10] such as by writing grammars or devising heuristic rules for stemming. \\nSince the so-called \"statistical revolution\"[11][12] in the late 1980s and mid-1990s, much natural language processing research has relied heavily on machine learning. The machine-learning paradigm calls instead for using statistical inference to automatically learn such rules through the analysis of large corpora (the plural form of corpus, is a set of documents, possibly with human or computer annotations) of typical real-world examples.\\nMany different classes of machine-learning algorithms have been applied to natural-language-processing tasks. These algorithms take as input a large set of \"features\" that are generated from the input data. Some of the earliest-used algorithms, such as decision trees, produced systems of hard if-then rules similar to the systems of handwritten rules that were then common. Increasingly, however, research has focused on statistical models, which make soft, probabilistic decisions based on attaching real-valued weights to each input feature. Such models have the advantage that they can express the relative certainty of many different possible answers rather than only one, producing more reliable results when such a model is included as a component of a larger system.\\nSystems based on machine-learning algorithms have many advantages over hand-produced rules:\\nThe following is a list of some of the most commonly researched tasks in natural language processing. Some of these tasks have direct real-world applications, while others more commonly serve as subtasks that are used to aid in solving larger tasks.\\nThough natural language processing tasks are closely intertwined, they are frequently subdivided into categories for convenience. A coarse division is given below.\\nThe first published work by an artificial intelligence was published in 2018, 1 the Road, marketed as a novel, contains sixty million words.\\nCognition refers to \"the mental action or process of acquiring knowledge and understanding through thought, experience, and the senses.\"[19] Cognitive science is the interdisciplinary, scientific study of the mind and its processes.[20] Cognitive linguistics is an interdisciplinary branch of linguistics, combining knowledge and research from both psychology and linguistics.[21] George Lakoff offers a methodology to build Natural language processing (NLP) algorithms through the perspective of Cognitive science, along with the findings of Cognitive linguistics [22]:\\nThe first defining aspect of this cognitive task of NLP is the application of the theory of Conceptual metaphor, explained by Lakoff as “the understanding of one idea, in terms of another” which provides an idea of the intent of the author[23]. \\nFor example, consider some of the meanings, in English, of the word “big”. When used as a Comparative, as in “That is a big tree,” a likely inference of the intent of the author is that the author is using the word “big” to imply a statement about the tree being ”physically large” in comparison to other trees or the authors experience.  When used as a Stative verb, as in ”Tomorrow is a big day”, a likely inference of the author’s intent it that ”big” is being used to imply ”importance”.  These examples are not presented to be complete, but merely as indicators of the implication of the idea of Conceptual metaphor.  The intent behind other usages, like in ”She is a big person” will remain somewhat ambiguous to a person and a cognitive NLP algorithm alike without additional information.  \\nThis leads to the second defining aspect of this cognitive task of NLP, namely Probabilistic context-free grammar (PCFG) which enables cognitive NLP algorithms to assign relative measures of meaning  to a word, phrase, sentence or piece of text based on the information presented before and after the piece of text being analyzed. The mathematical equation for such algorithms is presented in US patent 9269353\\xa0: \\nWhere,\\n\\xa0 \\u2003 \\xa0RMM, is the Relative Measure of Meaning\\n\\xa0 \\u2003 \\xa0token, is any block of text, sentence, phrase or word\\n\\xa0 \\u2003 \\xa0N, is the number of tokens being analyzed\\n\\xa0 \\u2003 \\xa0PMM, is the Probable Measure of Meaning based on a corpora\\n\\xa0 \\u2003 \\xa0d, is the location of the token along the sequence of N-1 tokens\\n\\xa0 \\u2003 \\xa0PF, is the Probability Function specific to a language\\n'"
      ]
     },
     "execution_count": 2,
     "metadata": {},
     "output_type": "execute_result"
    }
   ],
   "source": [
    "from bs4 import BeautifulSoup\n",
    "import requests\n",
    "\n",
    "subject = input(\"Enter the wikipedia topic to be summarised\")\n",
    "base_url = \"https://en.wikipedia.org/wiki/\"+subject\n",
    "page = requests.get(base_url)\n",
    "\n",
    "soup = BeautifulSoup(page.content,'html.parser')\n",
    "paragraphs = soup.find_all('p')\n",
    "\n",
    "content=\"\"\n",
    "for paragraph in paragraphs:\n",
    "    content+=paragraph.text\n",
    "\n",
    "content"
   ]
  },
  {
   "cell_type": "markdown",
   "metadata": {},
   "source": [
    "## Sentence Tokenization"
   ]
  },
  {
   "cell_type": "code",
   "execution_count": 3,
   "metadata": {},
   "outputs": [
    {
     "data": {
      "text/plain": [
       "['Natural language processing (NLP) is a subfield of linguistics, computer science, information engineering, and artificial intelligence concerned with the interactions between computers and human (natural) languages, in particular how to program computers to process and analyze large amounts of natural language data.',\n",
       " 'Challenges in natural language processing frequently involve speech recognition, natural language understanding, and natural-language generation.',\n",
       " 'The history of natural language processing (NLP) generally started in the 1950s, although work can be found from earlier periods.',\n",
       " 'In 1950, Alan Turing published an article titled \"Computing Machinery and Intelligence\" which proposed what is now called the Turing test as a criterion of intelligence[clarification needed].',\n",
       " 'The Georgetown experiment in 1954 involved fully automatic translation of more than sixty Russian sentences into English.',\n",
       " 'The authors claimed that within three or five years, machine translation would be a solved problem.',\n",
       " '[2]  However, real progress was much slower, and after the ALPAC report in 1966, which found that ten-year-long research had failed to fulfill the expectations, funding for machine translation was dramatically reduced.',\n",
       " 'Little further research in machine translation was conducted until the late 1980s when the first statistical machine translation systems were developed.',\n",
       " 'Some notably successful natural language processing systems developed in the 1960s were SHRDLU, a natural language system working in restricted \"blocks worlds\" with restricted vocabularies, and ELIZA, a simulation of a Rogerian psychotherapist, written by Joseph Weizenbaum between 1964 and 1966.',\n",
       " 'Using almost no information about human thought or emotion, ELIZA sometimes provided a startlingly human-like interaction.',\n",
       " 'When the \"patient\" exceeded the very small knowledge base, ELIZA might provide a generic response, for example, responding to \"My head hurts\" with \"Why do you say your head hurts?\".',\n",
       " 'During the 1970s, many programmers began to write \"conceptual ontologies\", which structured real-world information into computer-understandable data.',\n",
       " 'Examples are MARGIE (Schank, 1975), SAM (Cullingford, 1978), PAM (Wilensky, 1978), TaleSpin (Meehan, 1976), QUALM (Lehnert, 1977), Politics (Carbonell, 1979), and Plot Units (Lehnert 1981).',\n",
       " 'During this time, many chatterbots were written including PARRY, Racter, and Jabberwacky.',\n",
       " 'Up to the 1980s, most natural language processing systems were based on complex sets of hand-written rules.',\n",
       " 'Starting in the late 1980s, however, there was a revolution in natural language processing with the introduction of machine learning algorithms for language processing.',\n",
       " \"This was due to both the steady increase in computational power (see Moore's law) and the gradual lessening of the dominance of Chomskyan theories of linguistics (e.g.\",\n",
       " 'transformational grammar), whose theoretical underpinnings discouraged the sort of corpus linguistics that underlies the machine-learning approach to language processing.',\n",
       " '[3] Some of the earliest-used machine learning algorithms, such as decision trees, produced systems of hard if-then rules similar to existing hand-written rules.',\n",
       " 'However, part-of-speech tagging introduced the use of hidden Markov models to natural language processing, and increasingly, research has focused on statistical models, which make soft, probabilistic decisions based on attaching real-valued weights to the features making up the input data.',\n",
       " 'The cache language models upon which many speech recognition systems now rely are examples of such statistical models.',\n",
       " 'Such models are generally more robust when given unfamiliar input, especially input that contains errors (as is very common for real-world data), and produce more reliable results when integrated into a larger system comprising multiple subtasks.',\n",
       " 'Many of the notable early successes occurred in the field of machine translation, due especially to work at IBM Research, where successively more complicated statistical models were developed.',\n",
       " 'These systems were able to take advantage of existing multilingual textual corpora that had been produced by the Parliament of Canada and the European Union as a result of laws calling for the translation of all governmental proceedings into all official languages of the corresponding systems of government.',\n",
       " 'However, most other systems depended on corpora specifically developed for the tasks implemented by these systems, which was (and often continues to be) a major limitation in the success of these systems.',\n",
       " 'As a result, a great deal of research has gone into methods of more effectively learning from limited amounts of data.',\n",
       " 'Recent research has increasingly focused on unsupervised and semi-supervised learning algorithms.',\n",
       " 'Such algorithms can learn from data that has not been hand-annotated with the desired answers or using a combination of annotated and non-annotated data.',\n",
       " 'Generally, this task is much more difficult than supervised learning, and typically produces less accurate results for a given amount of input data.',\n",
       " 'However, there is an enormous amount of non-annotated data available (including, among other things, the entire content of the World Wide Web), which can often make up for the inferior results if the algorithm used has a low enough time complexity to be practical.',\n",
       " 'In the 2010s, representation learning and deep neural network-style machine learning methods became widespread in natural language processing, due in part to a flurry of results showing that such techniques[4][5] can achieve state-of-the-art results in many natural language tasks, for example in language modeling,[6] parsing,[7][8] and many others.',\n",
       " 'Popular techniques include the use of word embeddings to capture semantic properties of words, and an increase in end-to-end learning of a higher-level task (e.g., question answering) instead of relying on a pipeline of separate intermediate tasks (e.g., part-of-speech tagging and dependency parsing).',\n",
       " 'In some areas, this shift has entailed substantial changes in how NLP systems are designed, such that deep neural network-based approaches may be viewed as a new paradigm distinct from statistical natural language processing.',\n",
       " 'For instance, the term neural machine translation (NMT) emphasizes the fact that deep learning-based approaches to machine translation directly learn sequence-to-sequence transformations, obviating the need for intermediate steps such as word alignment and language modeling that was used in statistical machine translation (SMT).',\n",
       " 'In the early days, many language-processing systems were designed by hand-coding a set of rules:[9][10] such as by writing grammars or devising heuristic rules for stemming.',\n",
       " 'Since the so-called \"statistical revolution\"[11][12] in the late 1980s and mid-1990s, much natural language processing research has relied heavily on machine learning.',\n",
       " 'The machine-learning paradigm calls instead for using statistical inference to automatically learn such rules through the analysis of large corpora (the plural form of corpus, is a set of documents, possibly with human or computer annotations) of typical real-world examples.',\n",
       " 'Many different classes of machine-learning algorithms have been applied to natural-language-processing tasks.',\n",
       " 'These algorithms take as input a large set of \"features\" that are generated from the input data.',\n",
       " 'Some of the earliest-used algorithms, such as decision trees, produced systems of hard if-then rules similar to the systems of handwritten rules that were then common.',\n",
       " 'Increasingly, however, research has focused on statistical models, which make soft, probabilistic decisions based on attaching real-valued weights to each input feature.',\n",
       " 'Such models have the advantage that they can express the relative certainty of many different possible answers rather than only one, producing more reliable results when such a model is included as a component of a larger system.',\n",
       " 'Systems based on machine-learning algorithms have many advantages over hand-produced rules:\\nThe following is a list of some of the most commonly researched tasks in natural language processing.',\n",
       " 'Some of these tasks have direct real-world applications, while others more commonly serve as subtasks that are used to aid in solving larger tasks.',\n",
       " 'Though natural language processing tasks are closely intertwined, they are frequently subdivided into categories for convenience.',\n",
       " 'A coarse division is given below.',\n",
       " 'The first published work by an artificial intelligence was published in 2018, 1 the Road, marketed as a novel, contains sixty million words.',\n",
       " 'Cognition refers to \"the mental action or process of acquiring knowledge and understanding through thought, experience, and the senses.',\n",
       " '\"[19] Cognitive science is the interdisciplinary, scientific study of the mind and its processes.',\n",
       " '[20] Cognitive linguistics is an interdisciplinary branch of linguistics, combining knowledge and research from both psychology and linguistics.',\n",
       " '[21] George Lakoff offers a methodology to build Natural language processing (NLP) algorithms through the perspective of Cognitive science, along with the findings of Cognitive linguistics [22]:\\nThe first defining aspect of this cognitive task of NLP is the application of the theory of Conceptual metaphor, explained by Lakoff as “the understanding of one idea, in terms of another” which provides an idea of the intent of the author[23].',\n",
       " 'For example, consider some of the meanings, in English, of the word “big”.',\n",
       " 'When used as a Comparative, as in “That is a big tree,” a likely inference of the intent of the author is that the author is using the word “big” to imply a statement about the tree being ”physically large” in comparison to other trees or the authors experience.',\n",
       " 'When used as a Stative verb, as in ”Tomorrow is a big day”, a likely inference of the author’s intent it that ”big” is being used to imply ”importance”.',\n",
       " 'These examples are not presented to be complete, but merely as indicators of the implication of the idea of Conceptual metaphor.',\n",
       " 'The intent behind other usages, like in ”She is a big person” will remain somewhat ambiguous to a person and a cognitive NLP algorithm alike without additional information.',\n",
       " 'This leads to the second defining aspect of this cognitive task of NLP, namely Probabilistic context-free grammar (PCFG) which enables cognitive NLP algorithms to assign relative measures of meaning  to a word, phrase, sentence or piece of text based on the information presented before and after the piece of text being analyzed.',\n",
       " 'The mathematical equation for such algorithms is presented in US patent 9269353\\xa0: \\nWhere,\\n\\xa0 \\u2003 \\xa0RMM, is the Relative Measure of Meaning\\n\\xa0 \\u2003 \\xa0token, is any block of text, sentence, phrase or word\\n\\xa0 \\u2003 \\xa0N, is the number of tokens being analyzed\\n\\xa0 \\u2003 \\xa0PMM, is the Probable Measure of Meaning based on a corpora\\n\\xa0 \\u2003 \\xa0d, is the location of the token along the sequence of N-1 tokens\\n\\xa0 \\u2003 \\xa0PF, is the Probability Function specific to a language']"
      ]
     },
     "execution_count": 3,
     "metadata": {},
     "output_type": "execute_result"
    }
   ],
   "source": [
    "from nltk.tokenize import word_tokenize,sent_tokenize\n",
    "sentences = sent_tokenize(content)\n",
    "sentences\n"
   ]
  },
  {
   "cell_type": "code",
   "execution_count": 4,
   "metadata": {},
   "outputs": [
    {
     "data": {
      "text/plain": [
       "list"
      ]
     },
     "execution_count": 4,
     "metadata": {},
     "output_type": "execute_result"
    }
   ],
   "source": [
    "type(sentences)"
   ]
  },
  {
   "cell_type": "markdown",
   "metadata": {},
   "source": [
    "## Importing Word Embeddings"
   ]
  },
  {
   "cell_type": "code",
   "execution_count": 5,
   "metadata": {},
   "outputs": [
    {
     "data": {
      "text/plain": [
       "400000"
      ]
     },
     "execution_count": 5,
     "metadata": {},
     "output_type": "execute_result"
    }
   ],
   "source": [
    "word_embeddings = {}\n",
    "f = open('glove.6B.100d.txt', encoding='utf-8')\n",
    "for line in f:\n",
    "    values = line.split()\n",
    "    word = values[0]\n",
    "    coefs = np.asarray(values[1:], dtype = 'float32')\n",
    "    word_embeddings[word] = coefs\n",
    "f.close()\n",
    "\n",
    "len(word_embeddings)"
   ]
  },
  {
   "cell_type": "code",
   "execution_count": 6,
   "metadata": {},
   "outputs": [
    {
     "data": {
      "text/plain": [
       "['natural language processing  nlp  is a subfield of linguistics  computer science  information engineering  and artificial intelligence concerned with the interactions between computers and human  natural  languages  in particular how to program computers to process and analyze large amounts of natural language data ',\n",
       " 'challenges in natural language processing frequently involve speech recognition  natural language understanding  and natural language generation ',\n",
       " 'the history of natural language processing  nlp  generally started in the     s  although work can be found from earlier periods ',\n",
       " 'in       alan turing published an article titled  computing machinery and intelligence  which proposed what is now called the turing test as a criterion of intelligence clarification needed  ',\n",
       " 'the georgetown experiment in      involved fully automatic translation of more than sixty russian sentences into english ',\n",
       " 'the authors claimed that within three or five years  machine translation would be a solved problem ',\n",
       " '     however  real progress was much slower  and after the alpac report in       which found that ten year long research had failed to fulfill the expectations  funding for machine translation was dramatically reduced ',\n",
       " 'little further research in machine translation was conducted until the late     s when the first statistical machine translation systems were developed ',\n",
       " 'some notably successful natural language processing systems developed in the     s were shrdlu  a natural language system working in restricted  blocks worlds  with restricted vocabularies  and eliza  a simulation of a rogerian psychotherapist  written by joseph weizenbaum between      and      ',\n",
       " 'using almost no information about human thought or emotion  eliza sometimes provided a startlingly human like interaction ',\n",
       " 'when the  patient  exceeded the very small knowledge base  eliza might provide a generic response  for example  responding to  my head hurts  with  why do you say your head hurts   ',\n",
       " 'during the     s  many programmers began to write  conceptual ontologies   which structured real world information into computer understandable data ',\n",
       " 'examples are margie  schank         sam  cullingford         pam  wilensky         talespin  meehan         qualm  lehnert         politics  carbonell         and plot units  lehnert       ',\n",
       " 'during this time  many chatterbots were written including parry  racter  and jabberwacky ',\n",
       " 'up to the     s  most natural language processing systems were based on complex sets of hand written rules ',\n",
       " 'starting in the late     s  however  there was a revolution in natural language processing with the introduction of machine learning algorithms for language processing ',\n",
       " 'this was due to both the steady increase in computational power  see moore s law  and the gradual lessening of the dominance of chomskyan theories of linguistics  e g ',\n",
       " 'transformational grammar   whose theoretical underpinnings discouraged the sort of corpus linguistics that underlies the machine learning approach to language processing ',\n",
       " '    some of the earliest used machine learning algorithms  such as decision trees  produced systems of hard if then rules similar to existing hand written rules ',\n",
       " 'however  part of speech tagging introduced the use of hidden markov models to natural language processing  and increasingly  research has focused on statistical models  which make soft  probabilistic decisions based on attaching real valued weights to the features making up the input data ',\n",
       " 'the cache language models upon which many speech recognition systems now rely are examples of such statistical models ',\n",
       " 'such models are generally more robust when given unfamiliar input  especially input that contains errors  as is very common for real world data   and produce more reliable results when integrated into a larger system comprising multiple subtasks ',\n",
       " 'many of the notable early successes occurred in the field of machine translation  due especially to work at ibm research  where successively more complicated statistical models were developed ',\n",
       " 'these systems were able to take advantage of existing multilingual textual corpora that had been produced by the parliament of canada and the european union as a result of laws calling for the translation of all governmental proceedings into all official languages of the corresponding systems of government ',\n",
       " 'however  most other systems depended on corpora specifically developed for the tasks implemented by these systems  which was  and often continues to be  a major limitation in the success of these systems ',\n",
       " 'as a result  a great deal of research has gone into methods of more effectively learning from limited amounts of data ',\n",
       " 'recent research has increasingly focused on unsupervised and semi supervised learning algorithms ',\n",
       " 'such algorithms can learn from data that has not been hand annotated with the desired answers or using a combination of annotated and non annotated data ',\n",
       " 'generally  this task is much more difficult than supervised learning  and typically produces less accurate results for a given amount of input data ',\n",
       " 'however  there is an enormous amount of non annotated data available  including  among other things  the entire content of the world wide web   which can often make up for the inferior results if the algorithm used has a low enough time complexity to be practical ',\n",
       " 'in the     s  representation learning and deep neural network style machine learning methods became widespread in natural language processing  due in part to a flurry of results showing that such techniques       can achieve state of the art results in many natural language tasks  for example in language modeling     parsing        and many others ',\n",
       " 'popular techniques include the use of word embeddings to capture semantic properties of words  and an increase in end to end learning of a higher level task  e g   question answering  instead of relying on a pipeline of separate intermediate tasks  e g   part of speech tagging and dependency parsing  ',\n",
       " 'in some areas  this shift has entailed substantial changes in how nlp systems are designed  such that deep neural network based approaches may be viewed as a new paradigm distinct from statistical natural language processing ',\n",
       " 'for instance  the term neural machine translation  nmt  emphasizes the fact that deep learning based approaches to machine translation directly learn sequence to sequence transformations  obviating the need for intermediate steps such as word alignment and language modeling that was used in statistical machine translation  smt  ',\n",
       " 'in the early days  many language processing systems were designed by hand coding a set of rules         such as by writing grammars or devising heuristic rules for stemming ',\n",
       " 'since the so called  statistical revolution          in the late     s and mid     s  much natural language processing research has relied heavily on machine learning ',\n",
       " 'the machine learning paradigm calls instead for using statistical inference to automatically learn such rules through the analysis of large corpora  the plural form of corpus  is a set of documents  possibly with human or computer annotations  of typical real world examples ',\n",
       " 'many different classes of machine learning algorithms have been applied to natural language processing tasks ',\n",
       " 'these algorithms take as input a large set of  features  that are generated from the input data ',\n",
       " 'some of the earliest used algorithms  such as decision trees  produced systems of hard if then rules similar to the systems of handwritten rules that were then common ',\n",
       " 'increasingly  however  research has focused on statistical models  which make soft  probabilistic decisions based on attaching real valued weights to each input feature ',\n",
       " 'such models have the advantage that they can express the relative certainty of many different possible answers rather than only one  producing more reliable results when such a model is included as a component of a larger system ',\n",
       " 'systems based on machine learning algorithms have many advantages over hand produced rules  the following is a list of some of the most commonly researched tasks in natural language processing ',\n",
       " 'some of these tasks have direct real world applications  while others more commonly serve as subtasks that are used to aid in solving larger tasks ',\n",
       " 'though natural language processing tasks are closely intertwined  they are frequently subdivided into categories for convenience ',\n",
       " 'a coarse division is given below ',\n",
       " 'the first published work by an artificial intelligence was published in         the road  marketed as a novel  contains sixty million words ',\n",
       " 'cognition refers to  the mental action or process of acquiring knowledge and understanding through thought  experience  and the senses ',\n",
       " '      cognitive science is the interdisciplinary  scientific study of the mind and its processes ',\n",
       " '     cognitive linguistics is an interdisciplinary branch of linguistics  combining knowledge and research from both psychology and linguistics ',\n",
       " '     george lakoff offers a methodology to build natural language processing  nlp  algorithms through the perspective of cognitive science  along with the findings of cognitive linguistics       the first defining aspect of this cognitive task of nlp is the application of the theory of conceptual metaphor  explained by lakoff as  the understanding of one idea  in terms of another  which provides an idea of the intent of the author     ',\n",
       " 'for example  consider some of the meanings  in english  of the word  big  ',\n",
       " 'when used as a comparative  as in  that is a big tree   a likely inference of the intent of the author is that the author is using the word  big  to imply a statement about the tree being  physically large  in comparison to other trees or the authors experience ',\n",
       " 'when used as a stative verb  as in  tomorrow is a big day   a likely inference of the author s intent it that  big  is being used to imply  importance  ',\n",
       " 'these examples are not presented to be complete  but merely as indicators of the implication of the idea of conceptual metaphor ',\n",
       " 'the intent behind other usages  like in  she is a big person  will remain somewhat ambiguous to a person and a cognitive nlp algorithm alike without additional information ',\n",
       " 'this leads to the second defining aspect of this cognitive task of nlp  namely probabilistic context free grammar  pcfg  which enables cognitive nlp algorithms to assign relative measures of meaning  to a word  phrase  sentence or piece of text based on the information presented before and after the piece of text being analyzed ',\n",
       " 'the mathematical equation for such algorithms is presented in us patent            where       rmm  is the relative measure of meaning      token  is any block of text  sentence  phrase or word      n  is the number of tokens being analyzed      pmm  is the probable measure of meaning based on a corpora      d  is the location of the token along the sequence of n   tokens      pf  is the probability function specific to a language']"
      ]
     },
     "execution_count": 6,
     "metadata": {},
     "output_type": "execute_result"
    }
   ],
   "source": [
    "clean_sentences = []\n",
    "for sentence in sentences:   \n",
    "    clean_sentences.append(re.sub(\"[^a-zA-Z]\", \" \", sentence))\n",
    "clean_sentences = [s.lower() for s in clean_sentences]\n",
    "clean_sentences\n"
   ]
  },
  {
   "cell_type": "code",
   "execution_count": 7,
   "metadata": {},
   "outputs": [
    {
     "data": {
      "text/plain": [
       "['i',\n",
       " 'me',\n",
       " 'my',\n",
       " 'myself',\n",
       " 'we',\n",
       " 'our',\n",
       " 'ours',\n",
       " 'ourselves',\n",
       " 'you',\n",
       " \"you're\",\n",
       " \"you've\",\n",
       " \"you'll\",\n",
       " \"you'd\",\n",
       " 'your',\n",
       " 'yours',\n",
       " 'yourself',\n",
       " 'yourselves',\n",
       " 'he',\n",
       " 'him',\n",
       " 'his',\n",
       " 'himself',\n",
       " 'she',\n",
       " \"she's\",\n",
       " 'her',\n",
       " 'hers',\n",
       " 'herself',\n",
       " 'it',\n",
       " \"it's\",\n",
       " 'its',\n",
       " 'itself',\n",
       " 'they',\n",
       " 'them',\n",
       " 'their',\n",
       " 'theirs',\n",
       " 'themselves',\n",
       " 'what',\n",
       " 'which',\n",
       " 'who',\n",
       " 'whom',\n",
       " 'this',\n",
       " 'that',\n",
       " \"that'll\",\n",
       " 'these',\n",
       " 'those',\n",
       " 'am',\n",
       " 'is',\n",
       " 'are',\n",
       " 'was',\n",
       " 'were',\n",
       " 'be',\n",
       " 'been',\n",
       " 'being',\n",
       " 'have',\n",
       " 'has',\n",
       " 'had',\n",
       " 'having',\n",
       " 'do',\n",
       " 'does',\n",
       " 'did',\n",
       " 'doing',\n",
       " 'a',\n",
       " 'an',\n",
       " 'the',\n",
       " 'and',\n",
       " 'but',\n",
       " 'if',\n",
       " 'or',\n",
       " 'because',\n",
       " 'as',\n",
       " 'until',\n",
       " 'while',\n",
       " 'of',\n",
       " 'at',\n",
       " 'by',\n",
       " 'for',\n",
       " 'with',\n",
       " 'about',\n",
       " 'against',\n",
       " 'between',\n",
       " 'into',\n",
       " 'through',\n",
       " 'during',\n",
       " 'before',\n",
       " 'after',\n",
       " 'above',\n",
       " 'below',\n",
       " 'to',\n",
       " 'from',\n",
       " 'up',\n",
       " 'down',\n",
       " 'in',\n",
       " 'out',\n",
       " 'on',\n",
       " 'off',\n",
       " 'over',\n",
       " 'under',\n",
       " 'again',\n",
       " 'further',\n",
       " 'then',\n",
       " 'once',\n",
       " 'here',\n",
       " 'there',\n",
       " 'when',\n",
       " 'where',\n",
       " 'why',\n",
       " 'how',\n",
       " 'all',\n",
       " 'any',\n",
       " 'both',\n",
       " 'each',\n",
       " 'few',\n",
       " 'more',\n",
       " 'most',\n",
       " 'other',\n",
       " 'some',\n",
       " 'such',\n",
       " 'no',\n",
       " 'nor',\n",
       " 'not',\n",
       " 'only',\n",
       " 'own',\n",
       " 'same',\n",
       " 'so',\n",
       " 'than',\n",
       " 'too',\n",
       " 'very',\n",
       " 's',\n",
       " 't',\n",
       " 'can',\n",
       " 'will',\n",
       " 'just',\n",
       " 'don',\n",
       " \"don't\",\n",
       " 'should',\n",
       " \"should've\",\n",
       " 'now',\n",
       " 'd',\n",
       " 'll',\n",
       " 'm',\n",
       " 'o',\n",
       " 're',\n",
       " 've',\n",
       " 'y',\n",
       " 'ain',\n",
       " 'aren',\n",
       " \"aren't\",\n",
       " 'couldn',\n",
       " \"couldn't\",\n",
       " 'didn',\n",
       " \"didn't\",\n",
       " 'doesn',\n",
       " \"doesn't\",\n",
       " 'hadn',\n",
       " \"hadn't\",\n",
       " 'hasn',\n",
       " \"hasn't\",\n",
       " 'haven',\n",
       " \"haven't\",\n",
       " 'isn',\n",
       " \"isn't\",\n",
       " 'ma',\n",
       " 'mightn',\n",
       " \"mightn't\",\n",
       " 'mustn',\n",
       " \"mustn't\",\n",
       " 'needn',\n",
       " \"needn't\",\n",
       " 'shan',\n",
       " \"shan't\",\n",
       " 'shouldn',\n",
       " \"shouldn't\",\n",
       " 'wasn',\n",
       " \"wasn't\",\n",
       " 'weren',\n",
       " \"weren't\",\n",
       " 'won',\n",
       " \"won't\",\n",
       " 'wouldn',\n",
       " \"wouldn't\"]"
      ]
     },
     "execution_count": 7,
     "metadata": {},
     "output_type": "execute_result"
    }
   ],
   "source": [
    "from nltk.corpus import stopwords\n",
    "stop_words = stopwords.words('english')\n",
    "stop_words"
   ]
  },
  {
   "cell_type": "markdown",
   "metadata": {},
   "source": [
    "## Removing Stop Words"
   ]
  },
  {
   "cell_type": "code",
   "execution_count": 8,
   "metadata": {
    "scrolled": true
   },
   "outputs": [
    {
     "data": {
      "text/plain": [
       "['natural language processing nlp subfield linguistics computer science information engineering artificial intelligence concerned interactions computers human natural languages particular program computers process analyze large amounts natural language data',\n",
       " 'challenges natural language processing frequently involve speech recognition natural language understanding natural language generation',\n",
       " 'history natural language processing nlp generally started although work found earlier periods',\n",
       " 'alan turing published article titled computing machinery intelligence proposed called turing test criterion intelligence clarification needed',\n",
       " 'georgetown experiment involved fully automatic translation sixty russian sentences english',\n",
       " 'authors claimed within three five years machine translation would solved problem',\n",
       " 'however real progress much slower alpac report found ten year long research failed fulfill expectations funding machine translation dramatically reduced',\n",
       " 'little research machine translation conducted late first statistical machine translation systems developed',\n",
       " 'notably successful natural language processing systems developed shrdlu natural language system working restricted blocks worlds restricted vocabularies eliza simulation rogerian psychotherapist written joseph weizenbaum',\n",
       " 'using almost information human thought emotion eliza sometimes provided startlingly human like interaction',\n",
       " 'patient exceeded small knowledge base eliza might provide generic response example responding head hurts say head hurts',\n",
       " 'many programmers began write conceptual ontologies structured real world information computer understandable data',\n",
       " 'examples margie schank sam cullingford pam wilensky talespin meehan qualm lehnert politics carbonell plot units lehnert',\n",
       " 'time many chatterbots written including parry racter jabberwacky',\n",
       " 'natural language processing systems based complex sets hand written rules',\n",
       " 'starting late however revolution natural language processing introduction machine learning algorithms language processing',\n",
       " 'due steady increase computational power see moore law gradual lessening dominance chomskyan theories linguistics e g',\n",
       " 'transformational grammar whose theoretical underpinnings discouraged sort corpus linguistics underlies machine learning approach language processing',\n",
       " 'earliest used machine learning algorithms decision trees produced systems hard rules similar existing hand written rules',\n",
       " 'however part speech tagging introduced use hidden markov models natural language processing increasingly research focused statistical models make soft probabilistic decisions based attaching real valued weights features making input data',\n",
       " 'cache language models upon many speech recognition systems rely examples statistical models',\n",
       " 'models generally robust given unfamiliar input especially input contains errors common real world data produce reliable results integrated larger system comprising multiple subtasks',\n",
       " 'many notable early successes occurred field machine translation due especially work ibm research successively complicated statistical models developed',\n",
       " 'systems able take advantage existing multilingual textual corpora produced parliament canada european union result laws calling translation governmental proceedings official languages corresponding systems government',\n",
       " 'however systems depended corpora specifically developed tasks implemented systems often continues major limitation success systems',\n",
       " 'result great deal research gone methods effectively learning limited amounts data',\n",
       " 'recent research increasingly focused unsupervised semi supervised learning algorithms',\n",
       " 'algorithms learn data hand annotated desired answers using combination annotated non annotated data',\n",
       " 'generally task much difficult supervised learning typically produces less accurate results given amount input data',\n",
       " 'however enormous amount non annotated data available including among things entire content world wide web often make inferior results algorithm used low enough time complexity practical',\n",
       " 'representation learning deep neural network style machine learning methods became widespread natural language processing due part flurry results showing techniques achieve state art results many natural language tasks example language modeling parsing many others',\n",
       " 'popular techniques include use word embeddings capture semantic properties words increase end end learning higher level task e g question answering instead relying pipeline separate intermediate tasks e g part speech tagging dependency parsing',\n",
       " 'areas shift entailed substantial changes nlp systems designed deep neural network based approaches may viewed new paradigm distinct statistical natural language processing',\n",
       " 'instance term neural machine translation nmt emphasizes fact deep learning based approaches machine translation directly learn sequence sequence transformations obviating need intermediate steps word alignment language modeling used statistical machine translation smt',\n",
       " 'early days many language processing systems designed hand coding set rules writing grammars devising heuristic rules stemming',\n",
       " 'since called statistical revolution late mid much natural language processing research relied heavily machine learning',\n",
       " 'machine learning paradigm calls instead using statistical inference automatically learn rules analysis large corpora plural form corpus set documents possibly human computer annotations typical real world examples',\n",
       " 'many different classes machine learning algorithms applied natural language processing tasks',\n",
       " 'algorithms take input large set features generated input data',\n",
       " 'earliest used algorithms decision trees produced systems hard rules similar systems handwritten rules common',\n",
       " 'increasingly however research focused statistical models make soft probabilistic decisions based attaching real valued weights input feature',\n",
       " 'models advantage express relative certainty many different possible answers rather one producing reliable results model included component larger system',\n",
       " 'systems based machine learning algorithms many advantages hand produced rules following list commonly researched tasks natural language processing',\n",
       " 'tasks direct real world applications others commonly serve subtasks used aid solving larger tasks',\n",
       " 'though natural language processing tasks closely intertwined frequently subdivided categories convenience',\n",
       " 'coarse division given',\n",
       " 'first published work artificial intelligence published road marketed novel contains sixty million words',\n",
       " 'cognition refers mental action process acquiring knowledge understanding thought experience senses',\n",
       " 'cognitive science interdisciplinary scientific study mind processes',\n",
       " 'cognitive linguistics interdisciplinary branch linguistics combining knowledge research psychology linguistics',\n",
       " 'george lakoff offers methodology build natural language processing nlp algorithms perspective cognitive science along findings cognitive linguistics first defining aspect cognitive task nlp application theory conceptual metaphor explained lakoff understanding one idea terms another provides idea intent author',\n",
       " 'example consider meanings english word big',\n",
       " 'used comparative big tree likely inference intent author author using word big imply statement tree physically large comparison trees authors experience',\n",
       " 'used stative verb tomorrow big day likely inference author intent big used imply importance',\n",
       " 'examples presented complete merely indicators implication idea conceptual metaphor',\n",
       " 'intent behind usages like big person remain somewhat ambiguous person cognitive nlp algorithm alike without additional information',\n",
       " 'leads second defining aspect cognitive task nlp namely probabilistic context free grammar pcfg enables cognitive nlp algorithms assign relative measures meaning word phrase sentence piece text based information presented piece text analyzed',\n",
       " 'mathematical equation algorithms presented us patent rmm relative measure meaning token block text sentence phrase word n number tokens analyzed pmm probable measure meaning based corpora location token along sequence n tokens pf probability function specific language']"
      ]
     },
     "execution_count": 8,
     "metadata": {},
     "output_type": "execute_result"
    }
   ],
   "source": [
    "def remove_stopwords(sentence):\n",
    "    sen_new = \" \".join([i for i in sentence if i not in stop_words])\n",
    "    return sen_new\n",
    "clean_sentences = [remove_stopwords(sent.split()) for sent in clean_sentences]\n",
    "clean_sentences"
   ]
  },
  {
   "cell_type": "markdown",
   "metadata": {},
   "source": [
    "## Visualizing Word Frequency"
   ]
  },
  {
   "cell_type": "code",
   "execution_count": 9,
   "metadata": {},
   "outputs": [],
   "source": [
    "word_dict = {}\n",
    "for i in clean_sentences:\n",
    "    if len(i) != 0:\n",
    "        for w in i.split():\n",
    "            if w not in word_dict:\n",
    "                word_dict[w] = 1\n",
    "            else:\n",
    "                word_dict[w] += 1\n",
    "word_counts = pd.DataFrame({'words':list(word_dict.keys()), 'counts':list(word_dict.values())})\n",
    "word_counts = word_counts.set_index('words')"
   ]
  },
  {
   "cell_type": "code",
   "execution_count": 10,
   "metadata": {},
   "outputs": [],
   "source": [
    "top_ten = word_counts.nlargest(20, ['counts'])"
   ]
  },
  {
   "cell_type": "markdown",
   "metadata": {},
   "source": [
    "### Horizontal Bar graph"
   ]
  },
  {
   "cell_type": "code",
   "execution_count": 11,
   "metadata": {},
   "outputs": [
    {
     "data": {
      "image/png": "[encoded data removed]",
      "text/plain": [
       "<Figure size 432x288 with 1 Axes>"
      ]
     },
     "metadata": {
      "needs_background": "light"
     },
     "output_type": "display_data"
    }
   ],
   "source": [
    "ax = top_ten.plot.barh(x = None, y = 'counts', rot = 0)"
   ]
  },
  {
   "cell_type": "markdown",
   "metadata": {},
   "source": [
    "### Word Cloud"
   ]
  },
  {
   "cell_type": "code",
   "execution_count": 12,
   "metadata": {
    "scrolled": true
   },
   "outputs": [
    {
     "data": {
      "image/png": "[encoded data removed]",
      "text/plain": [
       "<Figure size 432x288 with 1 Axes>"
      ]
     },
     "metadata": {
      "needs_background": "light"
     },
     "output_type": "display_data"
    }
   ],
   "source": [
    "from wordcloud import WordCloud\n",
    "import matplotlib.pyplot as plt\n",
    "\n",
    "worldcloud = WordCloud(width = 900, height = 500, max_words = 1000, relative_scaling = 1, normalize_plurals = False).generate_from_frequencies(word_dict)\n",
    "plt.imshow(worldcloud, interpolation = 'bilinear')\n",
    "plt.axis(\"off\")\n",
    "plt.show()\n",
    "         "
   ]
  },
  {
   "cell_type": "markdown",
   "metadata": {},
   "source": [
    "## Calculating Sentence vectors"
   ]
  },
  {
   "cell_type": "code",
   "execution_count": 13,
   "metadata": {},
   "outputs": [
    {
     "data": {
      "text/plain": [
       "[array([-0.05880586,  0.48103294,  0.19372508,  0.24858268,  0.19441006,\n",
       "        -0.3393442 , -0.08197071, -0.19794525,  0.15505171,  0.23716423,\n",
       "        -0.11620863, -0.32982302,  0.21851452,  0.11183211,  0.10257888,\n",
       "         0.1052812 ,  0.18322982,  0.32066604, -0.02686061,  0.16734324,\n",
       "        -0.4074103 , -0.0910756 ,  0.445781  , -0.08939719, -0.2404117 ,\n",
       "        -0.24199656,  0.13572966, -0.01111674, -0.26508608,  0.15138157,\n",
       "        -0.20889524,  0.40125787, -0.52294666, -0.21829532,  0.07547541,\n",
       "        -0.09471338, -0.17238617,  0.2025969 , -0.03953069, -0.18245514,\n",
       "        -0.36060035, -0.2744668 , -0.463599  , -0.09228086, -0.19683243,\n",
       "         0.02824319,  0.13326614,  0.05523994, -0.29454947, -0.21889502,\n",
       "         0.37845844,  0.06691806,  0.21549551,  0.52556026,  0.08722118,\n",
       "        -1.2180827 ,  0.00381943, -0.30261895,  1.5098081 ,  0.22317624,\n",
       "        -0.04474987,  0.4552062 , -0.07898569, -0.29001322,  0.67738235,\n",
       "         0.059335  ,  0.2408833 , -0.08141745,  0.6904653 ,  0.13303345,\n",
       "        -0.01194382,  0.22613451,  0.3716903 , -0.15011947,  0.01238187,\n",
       "        -0.00252533, -0.08228899,  0.04291565, -0.6595632 ,  0.18971685,\n",
       "         0.38640192, -0.07374908, -0.5251103 ,  0.02529767, -1.3854951 ,\n",
       "         0.3878651 ,  0.44749874, -0.16345184, -0.09838884, -0.21052964,\n",
       "         0.1272698 ,  0.03804607, -0.06812649,  0.11145097, -0.128584  ,\n",
       "        -0.01112775, -0.312365  , -0.77808475,  0.528063  ,  0.16761497],\n",
       "       dtype=float32),\n",
       " array([ 8.36603194e-02,  5.66366792e-01,  3.52228850e-01,  4.51588869e-01,\n",
       "         2.87459791e-01, -1.39892131e-01, -3.00933480e-01, -2.32568383e-01,\n",
       "         6.28190394e-03,  2.52422243e-01, -5.26663661e-01, -4.45538372e-01,\n",
       "         1.24516889e-01, -2.18229424e-02,  7.30424300e-02, -1.39592156e-01,\n",
       "         8.93128961e-02,  6.51932210e-02, -2.32269108e-01,  1.27903149e-01,\n",
       "        -2.58668602e-01, -2.33316466e-01,  2.79023111e-01,  2.71601081e-02,\n",
       "        -4.30237092e-02, -7.14627504e-02,  2.93432623e-02,  1.40167121e-02,\n",
       "        -3.55574898e-02,  1.18959926e-01, -2.91376621e-01,  5.30051649e-01,\n",
       "        -2.92860895e-01, -3.62708360e-01,  1.45364970e-01, -1.48970991e-01,\n",
       "        -1.40106767e-01,  4.45346721e-02, -1.71077266e-01, -1.19538590e-01,\n",
       "        -4.58794326e-01, -2.07495004e-01, -2.18343750e-01, -7.92264380e-03,\n",
       "        -6.74865246e-02, -2.32126476e-04,  2.22550392e-01, -8.14838260e-02,\n",
       "        -2.92164832e-01, -4.33756024e-01,  1.47763401e-01,  1.31246775e-01,\n",
       "         3.22275370e-01,  7.24964559e-01,  1.48562029e-01, -1.42553627e+00,\n",
       "         5.73859029e-02, -3.56505185e-01,  1.50949275e+00,  1.74703360e-01,\n",
       "         1.29952803e-01,  5.39375007e-01, -1.17024921e-01, -6.01632655e-01,\n",
       "         8.32987607e-01,  9.97393727e-02,  3.43177736e-01, -2.63983637e-01,\n",
       "         4.20390576e-01, -2.79404283e-01, -3.98605838e-02,  2.67339647e-01,\n",
       "         4.34115529e-01, -2.49630019e-01,  2.24225119e-01,  9.34299082e-02,\n",
       "        -1.71308637e-01,  1.11610606e-01, -7.10725605e-01,  9.60909948e-02,\n",
       "         1.42440110e-01, -4.08609152e-01, -2.34261051e-01, -4.36311737e-02,\n",
       "        -1.46651256e+00,  3.52853566e-01,  2.32164171e-02, -1.90646887e-01,\n",
       "         9.51149792e-04, -3.36022407e-01,  9.43413302e-02, -1.85049996e-01,\n",
       "        -1.93997070e-01,  2.00190753e-01, -3.25078189e-01,  2.05759093e-01,\n",
       "        -5.46190262e-01, -7.48275459e-01,  5.46656370e-01,  3.35545689e-01],\n",
       "       dtype=float32),\n",
       " array([-0.0622815 ,  0.47217983, -0.00692384,  0.0529605 ,  0.0598812 ,\n",
       "        -0.14815289,  0.03234231,  0.12576759, -0.14581917,  0.04479351,\n",
       "        -0.17966934, -0.21387108,  0.21687426,  0.14196448,  0.15502675,\n",
       "        -0.16862427,  0.19362046, -0.08955414, -0.10783985,  0.17068863,\n",
       "        -0.00245484,  0.09866444,  0.30835328,  0.11926489, -0.08576778,\n",
       "        -0.31852293,  0.00905941, -0.21901368, -0.12777492,  0.00740605,\n",
       "        -0.30156726,  0.24990116, -0.3330139 , -0.19304039,  0.02186443,\n",
       "         0.08658694, -0.15581194,  0.059968  , -0.14868575, -0.2957162 ,\n",
       "        -0.42566955, -0.2840971 , -0.1234388 , -0.05068111,  0.00666701,\n",
       "        -0.17514206,  0.32244822, -0.3244571 ,  0.14650278, -0.4836739 ,\n",
       "         0.28439498, -0.06083159,  0.21419871,  0.7782485 , -0.00246663,\n",
       "        -1.5298547 , -0.3265617 , -0.37219363,  1.4175409 ,  0.56422734,\n",
       "        -0.02702025,  0.5646079 , -0.03972252, -0.19548896,  0.7399865 ,\n",
       "         0.0931839 ,  0.31456995, -0.207678  ,  0.2726504 , -0.04264944,\n",
       "        -0.18078133,  0.24819125,  0.2605376 , -0.01673394,  0.06815403,\n",
       "        -0.17689973, -0.2561378 ,  0.05866628, -0.783288  ,  0.06214283,\n",
       "         0.17743787, -0.09244338, -0.43023378,  0.03508232, -1.274742  ,\n",
       "         0.10329089,  0.14796284, -0.3335386 , -0.17583275, -0.10069835,\n",
       "         0.03940671, -0.26321772, -0.15028664,  0.20387374, -0.42241228,\n",
       "         0.01376596, -0.5163081 , -0.5291702 ,  0.4279493 ,  0.07625074],\n",
       "       dtype=float32),\n",
       " array([-0.25533184,  0.06976559,  0.12660703,  0.11377189,  0.08043008,\n",
       "        -0.22749913,  0.00538679, -0.03598351, -0.24287902,  0.13256934,\n",
       "         0.2665399 , -0.26837808, -0.10619624,  0.05666863,  0.06126698,\n",
       "         0.16625598,  0.5438177 ,  0.2918286 , -0.14838316, -0.13319269,\n",
       "         0.01820698, -0.40733245,  0.12048924, -0.24082562,  0.02121837,\n",
       "        -0.13911375,  0.18865845, -0.0598857 , -0.2091848 ,  0.18951555,\n",
       "        -0.01486719,  0.3403183 , -0.39875194, -0.02580901, -0.03834834,\n",
       "         0.1867694 , -0.08519807,  0.08686232, -0.1283103 , -0.00669038,\n",
       "        -0.41679654,  0.07341603,  0.01715442,  0.02567558, -0.2369949 ,\n",
       "        -0.35380295,  0.19776645, -0.40106386, -0.27280816, -0.19970515,\n",
       "         0.434283  ,  0.08648159,  0.28970143,  0.660685  , -0.01529779,\n",
       "        -1.3419493 ,  0.05609168, -0.00395388,  0.7983163 ,  0.16437893,\n",
       "         0.08981819,  0.18677397, -0.19182393, -0.04913916,  0.5513984 ,\n",
       "        -0.15077141, -0.14214009,  0.37127134,  0.26533127,  0.0871297 ,\n",
       "        -0.0227664 ,  0.33960506,  0.08264584, -0.17719766, -0.0606419 ,\n",
       "         0.14490533,  0.05679989,  0.03022486, -0.8093379 , -0.0413626 ,\n",
       "         0.238137  , -0.19647975, -0.30124035, -0.17227973, -1.1644573 ,\n",
       "         0.16788082,  0.47936872, -0.29904494, -0.02118636, -0.25073528,\n",
       "         0.03671565,  0.07540367, -0.01645353,  0.38030362,  0.09852238,\n",
       "         0.00608705,  0.29895768, -0.5211997 ,  0.35900548,  0.09086963],\n",
       "       dtype=float32),\n",
       " array([ 1.59365058e-01,  2.14605227e-01,  4.06064205e-02,  2.08900034e-01,\n",
       "         1.28516272e-01,  3.92262757e-01,  2.82306343e-01,  1.25684798e-01,\n",
       "        -9.11620855e-02,  3.58092308e-01,  1.33187859e-03,  1.72861621e-01,\n",
       "         1.69984996e-01,  2.80670941e-01, -4.40607257e-02, -5.15260473e-02,\n",
       "         2.68223155e-02, -5.32141812e-02, -3.55442435e-01, -1.49965007e-02,\n",
       "         4.68540154e-02, -1.17811531e-01,  1.91966817e-02, -2.08280474e-01,\n",
       "         1.60331964e-01, -4.26859409e-01, -1.14482939e-01, -2.78416425e-01,\n",
       "         1.57741219e-01,  2.14039177e-01, -3.73452365e-01,  3.80585968e-01,\n",
       "        -4.06243563e-01, -3.73557419e-01,  1.73362792e-01, -9.30456743e-02,\n",
       "        -8.47445205e-02, -1.55496420e-02, -1.05968386e-01,  3.90931927e-02,\n",
       "        -3.89014572e-01, -1.22108698e-01, -7.97372386e-02,  4.15915400e-02,\n",
       "         1.35868207e-01, -2.03519732e-01,  2.76677907e-01, -3.41452450e-01,\n",
       "        -6.26643449e-02, -2.20554337e-01,  4.83641624e-02, -1.25074480e-02,\n",
       "         1.00092687e-01,  6.33330584e-01, -8.51200819e-02, -1.18562448e+00,\n",
       "        -1.81016941e-02, -2.62850314e-01,  1.07732320e+00,  2.31711715e-01,\n",
       "        -3.88311222e-02,  3.28925371e-01, -1.45452350e-01, -1.54675514e-01,\n",
       "         5.57761014e-01, -9.68903974e-02, -2.80234963e-02,  2.61431813e-01,\n",
       "        -1.15161583e-01,  7.69565031e-02, -8.27937201e-02,  4.68052179e-02,\n",
       "         4.26703304e-01,  3.67252193e-02, -5.31613678e-02,  1.70005605e-01,\n",
       "        -1.84579492e-02,  7.09614009e-02, -7.67241180e-01, -4.08476830e-01,\n",
       "         6.04977131e-01, -2.09136978e-01, -2.26921797e-01,  8.12814385e-02,\n",
       "        -1.18608129e+00,  3.85458469e-02,  2.04364449e-01, -4.15764928e-01,\n",
       "        -1.32966684e-02, -2.40503088e-01,  3.04775749e-04, -7.33673647e-02,\n",
       "        -1.17659830e-01,  1.04520544e-01, -2.85646915e-01,  5.92152774e-02,\n",
       "        -2.88344145e-01, -2.37932980e-01,  2.45775431e-01, -1.19178081e-02],\n",
       "       dtype=float32),\n",
       " array([-0.08677994,  0.22661528,  0.09866529,  0.05403367,  0.09206626,\n",
       "         0.20109324,  0.3097071 ,  0.01101716,  0.06240024,  0.09478308,\n",
       "         0.17356442,  0.16908373,  0.3154431 ,  0.160148  , -0.07988758,\n",
       "        -0.27282673,  0.00375838,  0.18457597, -0.55006427,  0.0601509 ,\n",
       "         0.32529956, -0.14589392,  0.1611459 ,  0.07382556,  0.21846768,\n",
       "        -0.4628083 ,  0.00783238, -0.42363155, -0.07798055,  0.05402108,\n",
       "         0.05398428,  0.2711838 , -0.19616471, -0.17686544,  0.09636995,\n",
       "         0.10398917,  0.01595636,  0.12909608, -0.07568994, -0.05396636,\n",
       "        -0.50898284,  0.07395782,  0.10302339, -0.19169529,  0.03758113,\n",
       "        -0.234143  ,  0.26704553, -0.44787702, -0.19043194, -0.2939885 ,\n",
       "         0.09766456, -0.0845714 , -0.02479538,  1.0110725 ,  0.00406467,\n",
       "        -1.8777046 , -0.19156341, -0.12700674,  1.2756813 ,  0.7790709 ,\n",
       "        -0.09576203,  0.60191274, -0.17168112,  0.08427662,  0.7728779 ,\n",
       "         0.08662686,  0.21634023,  0.3356429 ,  0.17990701, -0.07085419,\n",
       "        -0.12945123,  0.14523414,  0.00850776, -0.10800232,  0.1411958 ,\n",
       "        -0.00920098, -0.18840612, -0.08335643, -0.9447832 ,  0.09023696,\n",
       "         0.5452359 ,  0.01464569, -0.42328998,  0.02774243, -1.3883511 ,\n",
       "         0.1228703 ,  0.1510052 , -0.35098714, -0.1301298 , -0.12170647,\n",
       "        -0.0860891 ,  0.10766704, -0.21381201,  0.0162397 , -0.4190594 ,\n",
       "         0.0581568 , -0.1864031 , -0.24544643,  0.45317972, -0.01607962],\n",
       "       dtype=float32),\n",
       " array([-7.77968254e-02,  2.12034654e-01,  7.72398721e-02,  1.71939903e-02,\n",
       "         1.40670903e-02, -3.53763015e-01, -9.26326648e-02,  1.05147285e-01,\n",
       "         2.07923562e-02,  1.38136247e-01,  8.55878702e-02,  9.10062539e-02,\n",
       "         1.15909297e-01, -1.21275111e-01,  2.50087030e-02, -1.88725767e-01,\n",
       "        -1.04375737e-01,  1.02965402e-01, -1.05794033e-01,  1.47021107e-01,\n",
       "         1.09535530e-01, -1.64643016e-01,  4.32470033e-02,  2.15827964e-01,\n",
       "        -1.00612171e-01, -1.30989202e-01, -1.66168790e-01, -4.51844894e-01,\n",
       "        -1.23556423e-01,  6.69095980e-03, -3.89805008e-02,  2.40666515e-01,\n",
       "        -2.10634970e-01, -8.68503578e-02, -1.87300116e-02,  1.51510023e-01,\n",
       "         3.90905922e-02,  1.46183136e-01, -2.45683715e-01,  4.05302240e-02,\n",
       "        -3.32244391e-01, -2.09923196e-01, -1.05516682e-02,  7.89241517e-02,\n",
       "         7.92573378e-02, -2.50643602e-01,  2.92527846e-01, -3.24876254e-01,\n",
       "        -1.02014438e-01, -7.00791610e-01,  2.20170086e-01, -1.21479031e-01,\n",
       "         1.09207985e-01,  8.68561555e-01,  7.76002654e-02, -1.91093891e+00,\n",
       "        -8.88319817e-02, -2.49084859e-01,  1.22841608e+00,  2.92519323e-01,\n",
       "        -6.44062797e-02,  3.86048801e-01, -3.29967655e-01,  8.86117651e-02,\n",
       "         4.28336031e-01,  8.98521540e-02, -1.22053351e-03,  1.69138291e-01,\n",
       "         4.15400929e-01, -4.71826932e-02,  1.16302233e-01,  4.28297603e-02,\n",
       "        -7.29293987e-03, -1.91970752e-01,  1.04935010e-01, -2.82407388e-02,\n",
       "        -1.61252034e-01, -4.71256952e-02, -7.77885114e-01, -9.24929797e-02,\n",
       "         4.63845861e-01,  1.65002561e-01, -4.79592016e-01,  6.00629303e-02,\n",
       "        -1.29642018e+00, -1.66948903e-01,  1.27383836e-01, -2.72097744e-01,\n",
       "        -2.39934129e-01, -1.03990436e-01, -5.97946050e-02,  4.24798766e-02,\n",
       "        -2.05356682e-01,  4.42529889e-02, -3.82404669e-01, -6.69543324e-02,\n",
       "        -7.78628985e-02, -1.77855608e-01,  4.14379681e-01,  1.32263380e-02]),\n",
       " array([-0.24098009,  0.17026614, -0.04294933,  0.12759145,  0.07144521,\n",
       "        -0.17627323,  0.47738323, -0.00502484, -0.08792575,  0.14174978,\n",
       "        -0.04609166, -0.36373198,  0.1448925 , -0.01580618,  0.2115725 ,\n",
       "         0.05653971,  0.42112884,  0.06955638, -0.1364992 ,  0.02976721,\n",
       "        -0.0124148 , -0.11805041,  0.1536891 ,  0.09003999, -0.07403517,\n",
       "        -0.40751353, -0.10039485, -0.1703757 , -0.1230369 ,  0.21496941,\n",
       "        -0.22696376,  0.41333032, -0.38771433,  0.0254293 ,  0.02439547,\n",
       "        -0.06192584, -0.05946362,  0.12645862,  0.11610532, -0.27570602,\n",
       "        -0.24329364, -0.07955503, -0.44159752,  0.01814148, -0.15856594,\n",
       "        -0.4195116 ,  0.19456062, -0.37059578, -0.05627811, -0.37404466,\n",
       "         0.07412966,  0.26322365,  0.2633498 ,  0.6171348 ,  0.04624669,\n",
       "        -1.9216231 , -0.20798883, -0.01887443,  1.27917   ,  0.44822627,\n",
       "         0.1211145 ,  0.5123968 , -0.15352938,  0.38493043,  0.40171552,\n",
       "        -0.01718007, -0.09345753,  0.05178969,  0.39287353,  0.20457987,\n",
       "        -0.29227805,  0.28674144,  0.23531428, -0.18802148,  0.04152229,\n",
       "        -0.06679444, -0.11060352,  0.15653554, -0.87666863, -0.05109242,\n",
       "         0.5329231 ,  0.09356289, -0.5003134 ,  0.18690392, -1.5277004 ,\n",
       "         0.23256394,  0.41349515, -0.5200524 , -0.02978943, -0.13382052,\n",
       "         0.16391848,  0.11674868,  0.02700334,  0.47517884, -0.04949805,\n",
       "        -0.01070561, -0.25406316, -0.5519816 ,  0.45339978,  0.134154  ],\n",
       "       dtype=float32),\n",
       " array([ 4.11086661e-02,  2.36104152e-01,  2.86779261e-02,  1.74890816e-01,\n",
       "         1.03666303e-01, -6.82943841e-02, -1.13461940e-02, -3.79600181e-02,\n",
       "        -2.15534602e-02,  6.12973977e-02, -1.15083568e-01, -2.84253337e-01,\n",
       "         1.41114416e-01, -5.83982718e-02,  7.15537292e-02, -9.05476239e-02,\n",
       "         2.63153428e-01,  1.32249592e-01, -1.41223612e-01,  1.17019452e-01,\n",
       "        -2.39107701e-01,  3.62565721e-02,  3.42829132e-01,  5.14936931e-02,\n",
       "        -3.00072911e-02, -2.69913933e-01, -6.82446784e-02, -1.45553350e-01,\n",
       "        -2.21209592e-01,  3.03713236e-01, -1.32625446e-01,  3.41080609e-01,\n",
       "        -2.58537970e-01, -1.94323767e-01,  2.41229840e-01, -3.42486126e-04,\n",
       "         9.31073798e-03,  2.69837935e-02, -1.33151527e-01, -1.82861814e-01,\n",
       "        -1.46948337e-01, -6.89164326e-02, -2.40905039e-01,  7.62364098e-02,\n",
       "         4.61337459e-02, -2.58819207e-02, -2.38712455e-02, -8.56375152e-02,\n",
       "         4.98442184e-02, -4.92038608e-02,  5.51549442e-02,  2.28931838e-01,\n",
       "         1.94237114e-01,  4.75404539e-01,  1.65835298e-01, -1.14008439e+00,\n",
       "        -2.31365315e-02, -1.88721793e-01,  9.88741317e-01,  1.29283532e-01,\n",
       "         1.19740421e-02,  3.33326826e-01,  3.66833466e-02, -1.29172371e-01,\n",
       "         4.98831628e-01,  2.27468558e-02,  1.89343310e-01, -6.35342780e-02,\n",
       "         3.05782972e-01, -3.48591597e-02, -1.04447354e-01,  1.15022957e-01,\n",
       "         1.94932364e-01, -1.68742889e-02,  6.76101182e-02, -1.27526292e-01,\n",
       "        -6.58523283e-02,  1.24740101e-01, -4.45280197e-01, -3.35212688e-02,\n",
       "         1.00813274e-01, -7.54953611e-02, -3.06670489e-01,  9.18233431e-02,\n",
       "        -9.77352533e-01,  3.94053046e-01,  2.49042402e-01, -2.81446263e-01,\n",
       "        -1.49625250e-01, -1.63818934e-01,  6.12573705e-02, -1.01657156e-01,\n",
       "        -3.87773034e-02,  2.11522230e-01,  8.75544575e-04,  2.03925446e-01,\n",
       "        -3.51843406e-01, -4.21823822e-01,  2.40192065e-01,  6.80916420e-02]),\n",
       " array([-1.18030615e-01,  3.94920975e-01,  2.38459125e-01,  5.03950641e-02,\n",
       "         9.66583416e-02,  2.35415742e-01, -1.21782467e-01, -6.04289286e-02,\n",
       "         1.07177243e-01, -2.75745332e-01, -7.50806779e-02, -8.71346071e-02,\n",
       "         3.33698422e-01,  2.35387273e-02,  3.94163728e-01,  1.64000522e-02,\n",
       "        -4.27585579e-02,  2.59021133e-01, -2.47482508e-01,  2.69633591e-01,\n",
       "         4.08120789e-02, -1.25142992e-01,  2.56374955e-01, -2.48526245e-01,\n",
       "         9.37080905e-02,  5.33946604e-02, -8.37550983e-02, -2.57437795e-01,\n",
       "        -5.82802892e-02,  9.71490666e-02,  1.20192751e-01,  4.32125241e-01,\n",
       "        -2.83493966e-01, -1.99777670e-02,  1.91881299e-01, -3.11679151e-02,\n",
       "        -1.51580647e-02,  3.01638365e-01, -2.13275924e-02, -1.01187574e-02,\n",
       "        -2.31998503e-01, -1.93987384e-01, -2.08866552e-01, -1.41560689e-01,\n",
       "        -1.72785252e-01, -8.76134634e-02,  1.36523798e-01,  4.89909239e-02,\n",
       "        -1.57626003e-01, -4.52739388e-01,  4.04160500e-01, -9.49526485e-03,\n",
       "         1.98798403e-01,  8.17037821e-01,  3.44636664e-02, -1.50302672e+00,\n",
       "         2.41187643e-02, -1.17464654e-01,  1.05962157e+00,  2.33091280e-01,\n",
       "        -1.06123522e-01,  7.96299458e-01, -1.25251666e-01, -1.26881152e-01,\n",
       "         5.88150263e-01, -1.52551346e-02,  3.72206837e-01, -7.45201185e-02,\n",
       "         3.49033117e-01, -3.53303505e-03, -1.86974909e-02, -2.44618859e-02,\n",
       "         2.65262067e-01, -2.10655421e-01,  2.83682376e-01,  6.23881221e-02,\n",
       "        -1.09409280e-02, -2.53475636e-01, -7.46753395e-01,  1.24044681e-03,\n",
       "         3.89367133e-01,  2.06653178e-01, -3.45848799e-01,  8.25509652e-02,\n",
       "        -1.47619414e+00,  1.63256809e-01,  2.68194348e-01,  1.74686424e-02,\n",
       "        -2.35679775e-01, -3.82362902e-01,  1.53010458e-01, -1.31317586e-01,\n",
       "        -3.51258367e-02,  2.57361624e-02,  5.13622649e-02, -1.37406334e-01,\n",
       "        -4.88271445e-01, -6.46901011e-01,  2.28643194e-01,  2.11364821e-01],\n",
       "       dtype=float32)]"
      ]
     },
     "execution_count": 13,
     "metadata": {},
     "output_type": "execute_result"
    }
   ],
   "source": [
    "sentence_vectors = []\n",
    "for i in clean_sentences:\n",
    "    if len(i) != 0:\n",
    "        v = sum([word_embeddings.get(w, np.zeros((100,))) for w in i.split()])/(len(i.split())+0.001)\n",
    "    else:\n",
    "        v = np.zeros((100,))\n",
    "    sentence_vectors.append(v)\n",
    "sentence_vectors[:10]"
   ]
  },
  {
   "cell_type": "markdown",
   "metadata": {},
   "source": [
    "## Generate similarity matrix from cosine similarity"
   ]
  },
  {
   "cell_type": "code",
   "execution_count": 14,
   "metadata": {},
   "outputs": [],
   "source": [
    "from sklearn.metrics.pairwise import cosine_similarity"
   ]
  },
  {
   "cell_type": "code",
   "execution_count": 15,
   "metadata": {},
   "outputs": [
    {
     "data": {
      "text/plain": [
       "58"
      ]
     },
     "execution_count": 15,
     "metadata": {},
     "output_type": "execute_result"
    }
   ],
   "source": [
    "len(sentences)"
   ]
  },
  {
   "cell_type": "code",
   "execution_count": 16,
   "metadata": {},
   "outputs": [
    {
     "data": {
      "text/plain": [
       "['Natural language processing (NLP) is a subfield of linguistics, computer science, information engineering, and artificial intelligence concerned with the interactions between computers and human (natural) languages, in particular how to program computers to process and analyze large amounts of natural language data.',\n",
       " 'Challenges in natural language processing frequently involve speech recognition, natural language understanding, and natural-language generation.',\n",
       " 'The history of natural language processing (NLP) generally started in the 1950s, although work can be found from earlier periods.',\n",
       " 'In 1950, Alan Turing published an article titled \"Computing Machinery and Intelligence\" which proposed what is now called the Turing test as a criterion of intelligence[clarification needed].',\n",
       " 'The Georgetown experiment in 1954 involved fully automatic translation of more than sixty Russian sentences into English.',\n",
       " 'The authors claimed that within three or five years, machine translation would be a solved problem.',\n",
       " '[2]  However, real progress was much slower, and after the ALPAC report in 1966, which found that ten-year-long research had failed to fulfill the expectations, funding for machine translation was dramatically reduced.',\n",
       " 'Little further research in machine translation was conducted until the late 1980s when the first statistical machine translation systems were developed.',\n",
       " 'Some notably successful natural language processing systems developed in the 1960s were SHRDLU, a natural language system working in restricted \"blocks worlds\" with restricted vocabularies, and ELIZA, a simulation of a Rogerian psychotherapist, written by Joseph Weizenbaum between 1964 and 1966.',\n",
       " 'Using almost no information about human thought or emotion, ELIZA sometimes provided a startlingly human-like interaction.',\n",
       " 'When the \"patient\" exceeded the very small knowledge base, ELIZA might provide a generic response, for example, responding to \"My head hurts\" with \"Why do you say your head hurts?\".',\n",
       " 'During the 1970s, many programmers began to write \"conceptual ontologies\", which structured real-world information into computer-understandable data.',\n",
       " 'Examples are MARGIE (Schank, 1975), SAM (Cullingford, 1978), PAM (Wilensky, 1978), TaleSpin (Meehan, 1976), QUALM (Lehnert, 1977), Politics (Carbonell, 1979), and Plot Units (Lehnert 1981).',\n",
       " 'During this time, many chatterbots were written including PARRY, Racter, and Jabberwacky.',\n",
       " 'Up to the 1980s, most natural language processing systems were based on complex sets of hand-written rules.',\n",
       " 'Starting in the late 1980s, however, there was a revolution in natural language processing with the introduction of machine learning algorithms for language processing.',\n",
       " \"This was due to both the steady increase in computational power (see Moore's law) and the gradual lessening of the dominance of Chomskyan theories of linguistics (e.g.\",\n",
       " 'transformational grammar), whose theoretical underpinnings discouraged the sort of corpus linguistics that underlies the machine-learning approach to language processing.',\n",
       " '[3] Some of the earliest-used machine learning algorithms, such as decision trees, produced systems of hard if-then rules similar to existing hand-written rules.',\n",
       " 'However, part-of-speech tagging introduced the use of hidden Markov models to natural language processing, and increasingly, research has focused on statistical models, which make soft, probabilistic decisions based on attaching real-valued weights to the features making up the input data.',\n",
       " 'The cache language models upon which many speech recognition systems now rely are examples of such statistical models.',\n",
       " 'Such models are generally more robust when given unfamiliar input, especially input that contains errors (as is very common for real-world data), and produce more reliable results when integrated into a larger system comprising multiple subtasks.',\n",
       " 'Many of the notable early successes occurred in the field of machine translation, due especially to work at IBM Research, where successively more complicated statistical models were developed.',\n",
       " 'These systems were able to take advantage of existing multilingual textual corpora that had been produced by the Parliament of Canada and the European Union as a result of laws calling for the translation of all governmental proceedings into all official languages of the corresponding systems of government.',\n",
       " 'However, most other systems depended on corpora specifically developed for the tasks implemented by these systems, which was (and often continues to be) a major limitation in the success of these systems.',\n",
       " 'As a result, a great deal of research has gone into methods of more effectively learning from limited amounts of data.',\n",
       " 'Recent research has increasingly focused on unsupervised and semi-supervised learning algorithms.',\n",
       " 'Such algorithms can learn from data that has not been hand-annotated with the desired answers or using a combination of annotated and non-annotated data.',\n",
       " 'Generally, this task is much more difficult than supervised learning, and typically produces less accurate results for a given amount of input data.',\n",
       " 'However, there is an enormous amount of non-annotated data available (including, among other things, the entire content of the World Wide Web), which can often make up for the inferior results if the algorithm used has a low enough time complexity to be practical.',\n",
       " 'In the 2010s, representation learning and deep neural network-style machine learning methods became widespread in natural language processing, due in part to a flurry of results showing that such techniques[4][5] can achieve state-of-the-art results in many natural language tasks, for example in language modeling,[6] parsing,[7][8] and many others.',\n",
       " 'Popular techniques include the use of word embeddings to capture semantic properties of words, and an increase in end-to-end learning of a higher-level task (e.g., question answering) instead of relying on a pipeline of separate intermediate tasks (e.g., part-of-speech tagging and dependency parsing).',\n",
       " 'In some areas, this shift has entailed substantial changes in how NLP systems are designed, such that deep neural network-based approaches may be viewed as a new paradigm distinct from statistical natural language processing.',\n",
       " 'For instance, the term neural machine translation (NMT) emphasizes the fact that deep learning-based approaches to machine translation directly learn sequence-to-sequence transformations, obviating the need for intermediate steps such as word alignment and language modeling that was used in statistical machine translation (SMT).',\n",
       " 'In the early days, many language-processing systems were designed by hand-coding a set of rules:[9][10] such as by writing grammars or devising heuristic rules for stemming.',\n",
       " 'Since the so-called \"statistical revolution\"[11][12] in the late 1980s and mid-1990s, much natural language processing research has relied heavily on machine learning.',\n",
       " 'The machine-learning paradigm calls instead for using statistical inference to automatically learn such rules through the analysis of large corpora (the plural form of corpus, is a set of documents, possibly with human or computer annotations) of typical real-world examples.',\n",
       " 'Many different classes of machine-learning algorithms have been applied to natural-language-processing tasks.',\n",
       " 'These algorithms take as input a large set of \"features\" that are generated from the input data.',\n",
       " 'Some of the earliest-used algorithms, such as decision trees, produced systems of hard if-then rules similar to the systems of handwritten rules that were then common.',\n",
       " 'Increasingly, however, research has focused on statistical models, which make soft, probabilistic decisions based on attaching real-valued weights to each input feature.',\n",
       " 'Such models have the advantage that they can express the relative certainty of many different possible answers rather than only one, producing more reliable results when such a model is included as a component of a larger system.',\n",
       " 'Systems based on machine-learning algorithms have many advantages over hand-produced rules:\\nThe following is a list of some of the most commonly researched tasks in natural language processing.',\n",
       " 'Some of these tasks have direct real-world applications, while others more commonly serve as subtasks that are used to aid in solving larger tasks.',\n",
       " 'Though natural language processing tasks are closely intertwined, they are frequently subdivided into categories for convenience.',\n",
       " 'A coarse division is given below.',\n",
       " 'The first published work by an artificial intelligence was published in 2018, 1 the Road, marketed as a novel, contains sixty million words.',\n",
       " 'Cognition refers to \"the mental action or process of acquiring knowledge and understanding through thought, experience, and the senses.',\n",
       " '\"[19] Cognitive science is the interdisciplinary, scientific study of the mind and its processes.',\n",
       " '[20] Cognitive linguistics is an interdisciplinary branch of linguistics, combining knowledge and research from both psychology and linguistics.',\n",
       " '[21] George Lakoff offers a methodology to build Natural language processing (NLP) algorithms through the perspective of Cognitive science, along with the findings of Cognitive linguistics [22]:\\nThe first defining aspect of this cognitive task of NLP is the application of the theory of Conceptual metaphor, explained by Lakoff as “the understanding of one idea, in terms of another” which provides an idea of the intent of the author[23].',\n",
       " 'For example, consider some of the meanings, in English, of the word “big”.',\n",
       " 'When used as a Comparative, as in “That is a big tree,” a likely inference of the intent of the author is that the author is using the word “big” to imply a statement about the tree being ”physically large” in comparison to other trees or the authors experience.',\n",
       " 'When used as a Stative verb, as in ”Tomorrow is a big day”, a likely inference of the author’s intent it that ”big” is being used to imply ”importance”.',\n",
       " 'These examples are not presented to be complete, but merely as indicators of the implication of the idea of Conceptual metaphor.',\n",
       " 'The intent behind other usages, like in ”She is a big person” will remain somewhat ambiguous to a person and a cognitive NLP algorithm alike without additional information.',\n",
       " 'This leads to the second defining aspect of this cognitive task of NLP, namely Probabilistic context-free grammar (PCFG) which enables cognitive NLP algorithms to assign relative measures of meaning  to a word, phrase, sentence or piece of text based on the information presented before and after the piece of text being analyzed.',\n",
       " 'The mathematical equation for such algorithms is presented in US patent 9269353\\xa0: \\nWhere,\\n\\xa0 \\u2003 \\xa0RMM, is the Relative Measure of Meaning\\n\\xa0 \\u2003 \\xa0token, is any block of text, sentence, phrase or word\\n\\xa0 \\u2003 \\xa0N, is the number of tokens being analyzed\\n\\xa0 \\u2003 \\xa0PMM, is the Probable Measure of Meaning based on a corpora\\n\\xa0 \\u2003 \\xa0d, is the location of the token along the sequence of N-1 tokens\\n\\xa0 \\u2003 \\xa0PF, is the Probability Function specific to a language']"
      ]
     },
     "execution_count": 16,
     "metadata": {},
     "output_type": "execute_result"
    }
   ],
   "source": [
    "sim_mat = np.zeros([len(sentences), len(sentences)])\n",
    "for i in range(len(sentences)):\n",
    "    for j in range(len(sentences)):\n",
    "        if i != j:\n",
    "            sim_mat[i][j] = cosine_similarity(sentence_vectors[i].reshape(1, 100), sentence_vectors[j].reshape(1,100))[0,0]\n",
    "sentences"
   ]
  },
  {
   "cell_type": "code",
   "execution_count": 17,
   "metadata": {
    "scrolled": false
   },
   "outputs": [
    {
     "data": {
      "text/plain": [
       "array([[0.        , 0.91204017, 0.87334698, ..., 0.82361251, 0.87324317,\n",
       "        0.7784785 ],\n",
       "       [0.91204017, 0.        , 0.88689661, ..., 0.82197583, 0.86329356,\n",
       "        0.77013034],\n",
       "       [0.87334698, 0.88689661, 0.        , ..., 0.84632605, 0.83071193,\n",
       "        0.75710618],\n",
       "       ...,\n",
       "       [0.82361251, 0.82197583, 0.84632605, ..., 0.        , 0.88143977,\n",
       "        0.84137541],\n",
       "       [0.87324317, 0.86329356, 0.83071193, ..., 0.88143977, 0.        ,\n",
       "        0.90878373],\n",
       "       [0.7784785 , 0.77013034, 0.75710618, ..., 0.84137541, 0.90878373,\n",
       "        0.        ]])"
      ]
     },
     "execution_count": 17,
     "metadata": {},
     "output_type": "execute_result"
    }
   ],
   "source": [
    "sim_mat"
   ]
  },
  {
   "cell_type": "markdown",
   "metadata": {},
   "source": [
    "## Implementing Pagerank algorithm"
   ]
  },
  {
   "cell_type": "code",
   "execution_count": 18,
   "metadata": {},
   "outputs": [
    {
     "data": {
      "text/plain": [
       "{0: 0.017818567599128993,\n",
       " 1: 0.01750572208144742,\n",
       " 2: 0.017856962410864586,\n",
       " 3: 0.016628824213322874,\n",
       " 4: 0.016384970614760307,\n",
       " 5: 0.017174310768366265,\n",
       " 6: 0.01730173894897168,\n",
       " 7: 0.01752652231575683,\n",
       " 8: 0.017737968180576647,\n",
       " 9: 0.01758448094931235,\n",
       " 10: 0.01676164408443703,\n",
       " 11: 0.017679571733456044,\n",
       " 12: 0.007961050070608681,\n",
       " 13: 0.01628346676220147,\n",
       " 14: 0.018111244578627134,\n",
       " 15: 0.01788240202799643,\n",
       " 16: 0.017069054293587526,\n",
       " 17: 0.016640679837005404,\n",
       " 18: 0.018155216764081564,\n",
       " 19: 0.018446870193260946,\n",
       " 20: 0.018071103908332206,\n",
       " 21: 0.018037333791918127,\n",
       " 22: 0.01798520479921032,\n",
       " 23: 0.01757120036263792,\n",
       " 24: 0.01757693404113524,\n",
       " 25: 0.018109548456699574,\n",
       " 26: 0.016659685965761943,\n",
       " 27: 0.016690988552025596,\n",
       " 28: 0.017816844370277505,\n",
       " 29: 0.018282749020425218,\n",
       " 30: 0.01860996133512944,\n",
       " 31: 0.01816873157366398,\n",
       " 32: 0.018068499801829136,\n",
       " 33: 0.018019166251138256,\n",
       " 34: 0.01792630063575529,\n",
       " 35: 0.018045986996525366,\n",
       " 36: 0.018508319033644843,\n",
       " 37: 0.017893405962534123,\n",
       " 38: 0.017167747256715823,\n",
       " 39: 0.017852609939163294,\n",
       " 40: 0.01803479926282755,\n",
       " 41: 0.018045107366601455,\n",
       " 42: 0.018499547662109293,\n",
       " 43: 0.017727986924355284,\n",
       " 44: 0.01716384373385221,\n",
       " 45: 0.014319526067490157,\n",
       " 46: 0.016850903928325146,\n",
       " 47: 0.01691597743309328,\n",
       " 48: 0.01537395342110348,\n",
       " 49: 0.012830763250670455,\n",
       " 50: 0.017679549270240305,\n",
       " 51: 0.016865373588501674,\n",
       " 52: 0.017728061902672503,\n",
       " 53: 0.017243675961202395,\n",
       " 54: 0.016583594079435857,\n",
       " 55: 0.017850489430495293,\n",
       " 56: 0.017887796811875568,\n",
       " 57: 0.016825459422854676}"
      ]
     },
     "execution_count": 18,
     "metadata": {},
     "output_type": "execute_result"
    }
   ],
   "source": [
    "import networkx as nx\n",
    "\n",
    "nx_graph = nx.from_numpy_array(sim_mat)\n",
    "scores = nx.pagerank(nx_graph)\n",
    "scores"
   ]
  },
  {
   "cell_type": "code",
   "execution_count": 19,
   "metadata": {},
   "outputs": [
    {
     "name": "stdout",
     "output_type": "stream",
     "text": [
      "In the 2010s, representation learning and deep neural network-style machine learning methods became widespread in natural language processing, due in part to a flurry of results showing that such techniques[4][5] can achieve state-of-the-art results in many natural language tasks, for example in language modeling,[6] parsing,[7][8] and many others.\n",
      "The machine-learning paradigm calls instead for using statistical inference to automatically learn such rules through the analysis of large corpora (the plural form of corpus, is a set of documents, possibly with human or computer annotations) of typical real-world examples.\n"
     ]
    }
   ],
   "source": [
    "ranked_sentences = sorted(((scores[i], s) for i, s in enumerate(sentences)), reverse = True)\n",
    "\n",
    "for i in range(2):\n",
    "    print(ranked_sentences[i][1])"
   ]
  },
  {
   "cell_type": "markdown",
   "metadata": {},
   "source": [
    "## Extracting summary\n"
   ]
  },
  {
   "cell_type": "code",
   "execution_count": 20,
   "metadata": {},
   "outputs": [
    {
     "name": "stderr",
     "output_type": "stream",
     "text": [
      "c:\\python\\python37\\lib\\site-packages\\ipykernel_launcher.py:3: FutureWarning: Possible nested set at position 1\n",
      "  This is separate from the ipykernel package so we can avoid doing imports until\n"
     ]
    },
    {
     "data": {
      "text/plain": [
       "'In the 2010s, representation learning and deep neural network-style machine learning methods became widespread in natural language processing, due in part to a flurry of results showing that such techniques can achieve state-of-the-art results in many natural language tasks, for example in language modeling, parsing, and many others.The machine-learning paradigm calls instead for using statistical inference to automatically learn such rules through the analysis of large corpora (the plural form of corpus, is a set of documents, possibly with human or computer annotations) of typical real-world examples.Systems based on machine-learning algorithms have many advantages over hand-produced rules:The following is a list of some of the most commonly researched tasks in natural language processing.However, part-of-speech tagging introduced the use of hidden Markov models to natural language processing, and increasingly, research has focused on statistical models, which make soft, probabilistic decisions based on attaching real-valued weights to the features making up the input data.However, there is an enormous amount of non-annotated data available (including, among other things, the entire content of the World Wide Web), which can often make up for the inferior results if the algorithm used has a low enough time complexity to be practical.Popular techniques include the use of word embeddings to capture semantic properties of words, and an increase in end-to-end learning of a higher-level task (e.g., question answering) instead of relying on a pipeline of separate intermediate tasks (e.g., part-of-speech tagging and dependency parsing). Some of the earliest-used machine learning algorithms, such as decision trees, produced systems of hard if-then rules similar to existing hand-written rules.Up to the 1980s, most natural language processing systems were based on complex sets of hand-written rules.As a result, a great deal of research has gone into methods of more effectively learning from limited amounts of data.The cache language models upon which many speech recognition systems now rely are examples of such statistical models.'"
      ]
     },
     "execution_count": 20,
     "metadata": {},
     "output_type": "execute_result"
    }
   ],
   "source": [
    "summary = \"\"\n",
    "for i in range(10):\n",
    "    summary += re.sub('[[0-9*]+]','', ranked_sentences[i][1])\n",
    "    summary = re.sub(\"\\\\n\", \"\", summary)\n",
    "    \n",
    "summary"
   ]
  }
 ],
 "metadata": {
  "kernelspec": {
   "display_name": "Python 3",
   "language": "python",
   "name": "python3"
  },
  "language_info": {
   "codemirror_mode": {
    "name": "ipython",
    "version": 3
   },
   "file_extension": ".py",
   "mimetype": "text/x-python",
   "name": "python",
   "nbconvert_exporter": "python",
   "pygments_lexer": "ipython3",
   "version": "3.7.8"
  }
 },
 "nbformat": 4,
 "nbformat_minor": 2
}
