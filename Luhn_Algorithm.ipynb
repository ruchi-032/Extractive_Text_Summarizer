{
 "cells": [
  {
   "cell_type": "code",
   "execution_count": 1,
   "metadata": {},
   "outputs": [],
   "source": [
    "import nltk"
   ]
  },
  {
   "cell_type": "code",
   "execution_count": 2,
   "metadata": {},
   "outputs": [],
   "source": [
    "from __future__ import absolute_import\n",
    "from __future__ import division, print_function, unicode_literals   "
   ]
  },
  {
   "cell_type": "markdown",
   "metadata": {},
   "source": [
    "#### Importing libraries and packages"
   ]
  },
  {
   "cell_type": "code",
   "execution_count": null,
   "metadata": {},
   "outputs": [],
   "source": [
    "from sumy.parsers.html import HtmlParser\n",
    "from sumy.parsers.plaintext import PlaintextParser\n",
    "from sumy.nlp.tokenizers import Tokenizer\n",
    "from sumy.summarizers.luhn import LuhnSummarizer\n",
    "from sumy.nlp.stemmers import Stemmer\n",
    "from sumy.utils import get_stop_words\n"
   ]
  },
  {
   "cell_type": "markdown",
   "metadata": {},
   "source": [
    "#### Implementing Luhn's Algorithm from Wikipedia page"
   ]
  },
  {
   "cell_type": "code",
   "execution_count": 4,
   "metadata": {},
   "outputs": [
    {
     "name": "stdout",
     "output_type": "stream",
     "text": [
      "--LuhnSummarizer--\n",
      "Deep learning architectures such as deep neural networks , deep belief networks , recurrent neural networks and convolutional neural networks have been applied to fields including computer vision , machine vision , speech recognition , natural language processing , audio recognition , social network filtering, machine translation , bioinformatics , drug design , medical image analysis, material inspection and board game programs, where they have produced results comparable to and in some cases surpassing human expert performance.\n",
      "MethodPercent phoneerror rate (PER) (%)\n",
      "Randomly Initialized RNN [127] 26.1\n",
      "Bayesian Triphone GMM-HMM25.6\n",
      "Hidden Trajectory (Generative) Model24.8\n",
      "Monophone Randomly Initialized DNN23.4\n",
      "Monophone DBN-DNN22.4\n",
      "Triphone GMM-HMM with BMMI Training21.7\n",
      "Monophone DBN-DNN on fbank20.7\n",
      "Convolutional DNN [128] 20.0\n",
      "Convolutional DNN w. Heterogeneous Pooling18.7\n",
      "Ensemble DNN/CNN/RNN [129] 18.3\n",
      "Bidirectional LSTM17.9\n",
      "Hierarchical Convolutional Deep Maxout Network [130] 16.5\n",
      "The debut of DNNs for speaker recognition in the late 1990s and speech recognition around 2009-2011 and of LSTM around 2003–2007, accelerated progress in eight major areas: [11][76]\n",
      "Scale-up/out and accelerated DNN training and decoding Sequence discriminative training Feature processing by deep models with solid understanding of the underlying mechanisms Adaptation of DNNs and related deep models Multi-task and transfer learning by DNNs and related deep models CNNs and how to design them to best exploit domain knowledge of speech RNN and its rich LSTM variants Other types of deep models including tensor-based models and integrated deep generative/discriminative models.\n",
      "^ Silver, David; Huang, Aja; Maddison, Chris J.; Guez, Arthur; Sifre, Laurent; Driessche, George van den; Schrittwieser, Julian; Antonoglou, Ioannis; Panneershelvam, Veda (January 2016).\n"
     ]
    }
   ],
   "source": [
    "LANGUAGE = \"english\"\n",
    "SENTENCES_COUNT = 4\n",
    " \n",
    " \n",
    "if __name__ == \"__main__\":\n",
    "        \n",
    "    url=\"https://en.wikipedia.org/wiki/Deep_learning\"\n",
    "   \n",
    "    parser = HtmlParser.from_url(url, Tokenizer(LANGUAGE))    \n",
    "     \n",
    "    print (\"--LuhnSummarizer--\")     \n",
    "    summarizer = LuhnSummarizer() \n",
    "    summarizer = LuhnSummarizer(Stemmer(LANGUAGE))\n",
    "    summarizer.stop_words =  get_stop_words(LANGUAGE)\n",
    "    for sentence in summarizer(parser.document, SENTENCES_COUNT):\n",
    "        print(sentence)\n",
    "        \n",
    "         "
   ]
  },
  {
   "cell_type": "markdown",
   "metadata": {},
   "source": [
    "#### Implementing Luhn's Algorithm from .txt file "
   ]
  },
  {
   "cell_type": "code",
   "execution_count": 5,
   "metadata": {},
   "outputs": [
    {
     "name": "stdout",
     "output_type": "stream",
     "text": [
      "--Luhn Summarizer--\n",
      "I think just because you're in the same sport doesn't mean that you have to be friends with everyone just because you're categorized, you're a tennis player, so you're going to get along with tennis players.\n",
      "“I could not make a decision in that time, so I told them to do what they wanted.” The 20-time Grand Slam champion has voiced doubts about the wisdom of the one-week format to be introduced by organisers Kosmos, who have promised the International Tennis Federation up to $3 billion in prize money over the next quarter-century.\n",
      "“Not always, but I really feel like in the mid-2000 years there was a huge shift of the attitudes of the top players and being more friendly and being more giving, and a lot of that had to do with players like Roger coming up.\n",
      "“I just felt like it really kind of changed where people were a little bit, definitely in the '90s, a lot more quiet, into themselves, and then it started to become better.” Meanwhile, Federer is hoping he can improve his service game as he hunts his ninth Swiss Indoors title this week.\n"
     ]
    }
   ],
   "source": [
    "file = \"tennis_article.txt\"\n",
    "print (\"--Luhn Summarizer--\")\n",
    "parser=PlaintextParser.from_file(file,Tokenizer(\"english\"))\n",
    "summarizer1 = LuhnSummarizer()\n",
    "summary1 = summarizer1(parser.document,4)\n",
    "for sentence in summary1:\n",
    "    print(sentence)"
   ]
  }
 ],
 "metadata": {
  "kernelspec": {
   "display_name": "Python 3",
   "language": "python",
   "name": "python3"
  },
  "language_info": {
   "codemirror_mode": {
    "name": "ipython",
    "version": 3
   },
   "file_extension": ".py",
   "mimetype": "text/x-python",
   "name": "python",
   "nbconvert_exporter": "python",
   "pygments_lexer": "ipython3",
   "version": "3.6.10"
  }
 },
 "nbformat": 4,
 "nbformat_minor": 4
}
